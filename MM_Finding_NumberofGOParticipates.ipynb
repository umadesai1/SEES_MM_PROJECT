{
 "cells": [
  {
   "cell_type": "code",
   "execution_count": 11,
   "id": "ruled-socket",
   "metadata": {},
   "outputs": [],
   "source": [
    "import pandas as pd\n",
    "import geohash as gh"
   ]
  },
  {
   "cell_type": "code",
   "execution_count": 14,
   "id": "worth-encyclopedia",
   "metadata": {},
   "outputs": [],
   "source": [
    "def gh_func(x):\n",
    "    geohash(x[0])"
   ]
  },
  {
   "cell_type": "code",
   "execution_count": 15,
   "id": "crucial-kernel",
   "metadata": {
    "scrolled": false
   },
   "outputs": [],
   "source": [
    "df = pd.read_csv(\"/tmp/mos.csv\")"
   ]
  },
  {
   "cell_type": "code",
   "execution_count": 16,
   "id": "ultimate-vehicle",
   "metadata": {},
   "outputs": [],
   "source": [
    "latlon = df[['latitude', 'longitude']]"
   ]
  },
  {
   "cell_type": "code",
   "execution_count": 26,
   "id": "coral-ensemble",
   "metadata": {
    "scrolled": true
   },
   "outputs": [
    {
     "name": "stderr",
     "output_type": "stream",
     "text": [
      "<ipython-input-26-5f6448c8ba99>:1: SettingWithCopyWarning: \n",
      "A value is trying to be set on a copy of a slice from a DataFrame.\n",
      "Try using .loc[row_indexer,col_indexer] = value instead\n",
      "\n",
      "See the caveats in the documentation: https://pandas.pydata.org/pandas-docs/stable/user_guide/indexing.html#returning-a-view-versus-a-copy\n",
      "  latlon['geohash']=latlon.apply(lambda x: gh.encode(x.latitude, x.longitude, precision=3), axis=1)\n"
     ]
    }
   ],
   "source": [
    "latlon['geohash']=latlon.apply(lambda x: gh.encode(x.latitude, x.longitude, precision=3), axis=1)"
   ]
  },
  {
   "cell_type": "code",
   "execution_count": 27,
   "id": "first-hunter",
   "metadata": {},
   "outputs": [
    {
     "name": "stdout",
     "output_type": "stream",
     "text": [
      "        latitude   longitude geohash\n",
      "0      39.253437  -77.196178     dqc\n",
      "1      39.253437  -77.196178     dqc\n",
      "2      39.253437  -77.196178     dqc\n",
      "3      39.253437  -77.196178     dqc\n",
      "4      39.253437  -77.196178     dqc\n",
      "...          ...         ...     ...\n",
      "16904  15.077137  -16.346329     eds\n",
      "16905 -18.917689   47.511195     mh9\n",
      "16906  25.022708  121.413273     wsq\n",
      "16907  14.858850  -15.878405     eds\n",
      "16908   8.641200   99.894347     w1x\n",
      "\n",
      "[16909 rows x 3 columns]\n"
     ]
    }
   ],
   "source": [
    "print(latlon)"
   ]
  },
  {
   "cell_type": "code",
   "execution_count": 43,
   "id": "italic-avenue",
   "metadata": {},
   "outputs": [],
   "source": [
    "la=latlon['geohash'] == '9q5'"
   ]
  },
  {
   "cell_type": "code",
   "execution_count": 46,
   "id": "precious-crack",
   "metadata": {},
   "outputs": [],
   "source": [
    "df[la].to_csv(\"los_angeles.csv\")"
   ]
  },
  {
   "cell_type": "code",
   "execution_count": 56,
   "id": "acting-bible",
   "metadata": {},
   "outputs": [],
   "source": [
    "atl=latlon['geohash'] == 'dnh'"
   ]
  },
  {
   "cell_type": "code",
   "execution_count": 57,
   "id": "promotional-olive",
   "metadata": {
    "scrolled": true
   },
   "outputs": [],
   "source": [
    "df[atl].to_csv(\"atl.csv\")"
   ]
  },
  {
   "cell_type": "code",
   "execution_count": 53,
   "id": "african-hurricane",
   "metadata": {},
   "outputs": [],
   "source": [
    "clt=latlon['geohash'] =='dnq'"
   ]
  },
  {
   "cell_type": "code",
   "execution_count": 55,
   "id": "favorite-pittsburgh",
   "metadata": {},
   "outputs": [],
   "source": [
    "df[clt].to_csv('charlotte.csv')"
   ]
  },
  {
   "cell_type": "code",
   "execution_count": null,
   "id": "convinced-ireland",
   "metadata": {},
   "outputs": [],
   "source": []
  }
 ],
 "metadata": {
  "kernelspec": {
   "display_name": "Python 3",
   "language": "python",
   "name": "python3"
  },
  "language_info": {
   "codemirror_mode": {
    "name": "ipython",
    "version": 3
   },
   "file_extension": ".py",
   "mimetype": "text/x-python",
   "name": "python",
   "nbconvert_exporter": "python",
   "pygments_lexer": "ipython3",
   "version": "3.9.2"
  }
 },
 "nbformat": 4,
 "nbformat_minor": 5
}
